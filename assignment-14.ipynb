{
 "cells": [
  {
   "cell_type": "code",
   "execution_count": 5,
   "id": "2046b834",
   "metadata": {},
   "outputs": [],
   "source": [
    "# Import modules\n",
    "import pandas as pd\n",
    "import numpy as np\n",
    "import seaborn as sns\n",
    "import matplotlib.pyplot as plt"
   ]
  },
  {
   "cell_type": "code",
   "execution_count": 1,
   "id": "2b628e78",
   "metadata": {},
   "outputs": [],
   "source": [
    "# Source: https://github.com/jakevdp/PythonDataScienceHandbook/tree/master/notebooks\n",
    "class display(object):\n",
    "    \"\"\"Display HTML representation of multiple objects\"\"\"\n",
    "    template = \"\"\"<div style=\"float: left; padding: 10px;\">\n",
    "    <p style='font-family:\"Courier New\", Courier, monospace'>{0}</p>{1}\n",
    "    </div>\"\"\"\n",
    "    def __init__(self, *args):\n",
    "        self.args = args\n",
    "        \n",
    "    def _repr_html_(self):\n",
    "        return '\\n'.join(self.template.format(a, eval(a)._repr_html_())\n",
    "                         for a in self.args)\n",
    "    \n",
    "    def __repr__(self):\n",
    "        return '\\n\\n'.join(a + '\\n' + repr(eval(a))\n",
    "                           for a in self.args)"
   ]
  },
  {
   "cell_type": "markdown",
   "id": "3a4c441f",
   "metadata": {},
   "source": [
    "# A plot for my girlfriend"
   ]
  },
  {
   "cell_type": "code",
   "execution_count": 24,
   "id": "dc10f4fe",
   "metadata": {},
   "outputs": [
    {
     "data": {
      "image/png": "[encoded data removed]",
      "text/plain": [
       "<Figure size 432x288 with 4 Axes>"
      ]
     },
     "metadata": {},
     "output_type": "display_data"
    }
   ],
   "source": [
    "# Set style\n",
    "plt.style.use('dark_background')\n",
    "\n",
    "fig = plt.figure()\n",
    "# Create axes subplots\n",
    "ax1 = plt.axes() # standard axes\n",
    "ax2 = plt.axes([0.65, 0.65, 0.4, 0.3])\n",
    "ax3 = plt.axes([0.1, 0.1, 0.3, 0.3])\n",
    "ax4 = plt.axes([0.3, 0.3, 0.4, 0.3])\n",
    "\n",
    "# Generate data\n",
    "x = np.linspace(0, 10, 25)\n",
    "y = np.cos(x)\n",
    "\n",
    "# Hide ticks and plot scatters\n",
    "ax1.axes.xaxis.set_ticks([]) # Make ticks invisible\n",
    "ax1.axes.yaxis.set_ticks([])\n",
    "ax1.text(0, 0.8, 'Denise', fontsize='75', \n",
    "         family='cursive', c='lavender')\n",
    "\n",
    "ax2.axes.xaxis.set_ticks([])\n",
    "ax2.axes.yaxis.set_ticks([])\n",
    "ax2.scatter(x, y, color='b', s=100, edgecolor='gold') # Scatter with customizations\n",
    "ax2.scatter(x, y-1, color='gold', s=140, \n",
    "            edgecolor='b', marker='v')\n",
    "\n",
    "ax3.axes.xaxis.set_ticks([])\n",
    "ax3.axes.yaxis.set_ticks([])\n",
    "ax3.scatter(x, y, color='b', s=100, edgecolor='gold')\n",
    "ax3.scatter(x, y-1, color='gold', \n",
    "            s=140, edgecolor='b', marker='v')\n",
    "\n",
    "ax4.axes.xaxis.set_ticks([])\n",
    "ax4.axes.yaxis.set_ticks([])\n",
    "ax4.scatter(x, y, c='red', s=100, \n",
    "            edgecolor='bisque', marker='v')\n",
    "ax4.scatter(x, y-1, c='bisque', s=100, edgecolor='red');"
   ]
  },
  {
   "cell_type": "markdown",
   "id": "c7381976",
   "metadata": {},
   "source": [
    "# Taking a look at drug overdose dataset from Kaggle. The data is from overdose deaths from 2012-2018 in Connecticut, USA.\n",
    "## I am interested in looking into some questions I have about the data such as:\n",
    "- Are the overdose deaths increasing from 2012 to 2018?\n",
    "- What age ranges seem to be struggling with overdoses? Is it younger people in their twenties or maybe middle-aged adults in their thirties and forties?\n",
    "- I am very curious to know how many of the deaths involved a combination of heroine, fentanyl, and cocaine.\n",
    "- Is there a particular race that is more prone to accidental drug overdose death?"
   ]
  },
  {
   "cell_type": "code",
   "execution_count": 6,
   "id": "e7cd3e29",
   "metadata": {},
   "outputs": [],
   "source": [
    "# Import drug overdose dataset from kaggle\n",
    "# https://www.kaggle.com/ruchi798/drug-overdose-deaths\n",
    "drugs = pd.read_csv('drug_deaths.csv')"
   ]
  },
  {
   "cell_type": "code",
   "execution_count": 10,
   "id": "13a37f2e",
   "metadata": {},
   "outputs": [
    {
     "data": {
      "text/plain": [
       "(5105, 42)"
      ]
     },
     "execution_count": 10,
     "metadata": {},
     "output_type": "execute_result"
    }
   ],
   "source": [
    "drugs.shape"
   ]
  },
  {
   "cell_type": "code",
   "execution_count": 11,
   "id": "d3eafb28",
   "metadata": {},
   "outputs": [
    {
     "data": {
      "text/html": [
       "<div>\n",
       "<style scoped>\n",
       "    .dataframe tbody tr th:only-of-type {\n",
       "        vertical-align: middle;\n",
       "    }\n",
       "\n",
       "    .dataframe tbody tr th {\n",
       "        vertical-align: top;\n",
       "    }\n",
       "\n",
       "    .dataframe thead th {\n",
       "        text-align: right;\n",
       "    }\n",
       "</style>\n",
       "<table border=\"1\" class=\"dataframe\">\n",
       "  <thead>\n",
       "    <tr style=\"text-align: right;\">\n",
       "      <th></th>\n",
       "      <th>Unnamed: 0</th>\n",
       "      <th>ID</th>\n",
       "      <th>Date</th>\n",
       "      <th>DateType</th>\n",
       "      <th>Age</th>\n",
       "      <th>Sex</th>\n",
       "      <th>Race</th>\n",
       "      <th>ResidenceCity</th>\n",
       "      <th>ResidenceCounty</th>\n",
       "      <th>ResidenceState</th>\n",
       "      <th>...</th>\n",
       "      <th>Tramad</th>\n",
       "      <th>Morphine_NotHeroin</th>\n",
       "      <th>Hydromorphone</th>\n",
       "      <th>Other</th>\n",
       "      <th>OpiateNOS</th>\n",
       "      <th>AnyOpioid</th>\n",
       "      <th>MannerofDeath</th>\n",
       "      <th>DeathCityGeo</th>\n",
       "      <th>ResidenceCityGeo</th>\n",
       "      <th>InjuryCityGeo</th>\n",
       "    </tr>\n",
       "  </thead>\n",
       "  <tbody>\n",
       "    <tr>\n",
       "      <th>0</th>\n",
       "      <td>0</td>\n",
       "      <td>14-0273</td>\n",
       "      <td>06/28/2014 12:00:00 AM</td>\n",
       "      <td>1.0</td>\n",
       "      <td>NaN</td>\n",
       "      <td>NaN</td>\n",
       "      <td>NaN</td>\n",
       "      <td>NaN</td>\n",
       "      <td>NaN</td>\n",
       "      <td>NaN</td>\n",
       "      <td>...</td>\n",
       "      <td>0</td>\n",
       "      <td>0</td>\n",
       "      <td>0</td>\n",
       "      <td>NaN</td>\n",
       "      <td>0</td>\n",
       "      <td>0</td>\n",
       "      <td>Accident</td>\n",
       "      <td>CT\\n(41.575155, -72.738288)</td>\n",
       "      <td>CT\\n(41.575155, -72.738288)</td>\n",
       "      <td>CT\\n(41.575155, -72.738288)</td>\n",
       "    </tr>\n",
       "    <tr>\n",
       "      <th>1</th>\n",
       "      <td>1</td>\n",
       "      <td>13-0102</td>\n",
       "      <td>03/21/2013 12:00:00 AM</td>\n",
       "      <td>0.0</td>\n",
       "      <td>48.0</td>\n",
       "      <td>Male</td>\n",
       "      <td>Black</td>\n",
       "      <td>NORWALK</td>\n",
       "      <td>NaN</td>\n",
       "      <td>NaN</td>\n",
       "      <td>...</td>\n",
       "      <td>0</td>\n",
       "      <td>0</td>\n",
       "      <td>0</td>\n",
       "      <td>NaN</td>\n",
       "      <td>0</td>\n",
       "      <td>0</td>\n",
       "      <td>Accident</td>\n",
       "      <td>Norwalk, CT\\n(41.11805, -73.412906)</td>\n",
       "      <td>NORWALK, CT\\n(41.11805, -73.412906)</td>\n",
       "      <td>CT\\n(41.575155, -72.738288)</td>\n",
       "    </tr>\n",
       "    <tr>\n",
       "      <th>2</th>\n",
       "      <td>2</td>\n",
       "      <td>16-0165</td>\n",
       "      <td>03/13/2016 12:00:00 AM</td>\n",
       "      <td>0.0</td>\n",
       "      <td>30.0</td>\n",
       "      <td>Female</td>\n",
       "      <td>White</td>\n",
       "      <td>SANDY HOOK</td>\n",
       "      <td>FAIRFIELD</td>\n",
       "      <td>CT</td>\n",
       "      <td>...</td>\n",
       "      <td>0</td>\n",
       "      <td>0</td>\n",
       "      <td>0</td>\n",
       "      <td>NaN</td>\n",
       "      <td>0</td>\n",
       "      <td>1</td>\n",
       "      <td>Accident</td>\n",
       "      <td>Danbury, CT\\n(41.393666, -73.451539)</td>\n",
       "      <td>SANDY HOOK, CT\\n(41.419998, -73.282501)</td>\n",
       "      <td>NaN</td>\n",
       "    </tr>\n",
       "    <tr>\n",
       "      <th>3</th>\n",
       "      <td>3</td>\n",
       "      <td>16-0208</td>\n",
       "      <td>03/31/2016 12:00:00 AM</td>\n",
       "      <td>0.0</td>\n",
       "      <td>23.0</td>\n",
       "      <td>Male</td>\n",
       "      <td>White</td>\n",
       "      <td>RYE</td>\n",
       "      <td>WESTCHESTER</td>\n",
       "      <td>NY</td>\n",
       "      <td>...</td>\n",
       "      <td>0</td>\n",
       "      <td>0</td>\n",
       "      <td>0</td>\n",
       "      <td>NaN</td>\n",
       "      <td>0</td>\n",
       "      <td>1</td>\n",
       "      <td>Accident</td>\n",
       "      <td>Greenwich, CT\\n(41.026526, -73.628549)</td>\n",
       "      <td>NaN</td>\n",
       "      <td>NaN</td>\n",
       "    </tr>\n",
       "    <tr>\n",
       "      <th>4</th>\n",
       "      <td>4</td>\n",
       "      <td>13-0052</td>\n",
       "      <td>02/13/2013 12:00:00 AM</td>\n",
       "      <td>0.0</td>\n",
       "      <td>22.0</td>\n",
       "      <td>Male</td>\n",
       "      <td>Asian, Other</td>\n",
       "      <td>FLUSHING</td>\n",
       "      <td>QUEENS</td>\n",
       "      <td>NaN</td>\n",
       "      <td>...</td>\n",
       "      <td>0</td>\n",
       "      <td>0</td>\n",
       "      <td>0</td>\n",
       "      <td>NaN</td>\n",
       "      <td>0</td>\n",
       "      <td>0</td>\n",
       "      <td>Accident</td>\n",
       "      <td>Greenwich, CT\\n(41.026526, -73.628549)</td>\n",
       "      <td>NaN</td>\n",
       "      <td>CT\\n(41.575155, -72.738288)</td>\n",
       "    </tr>\n",
       "  </tbody>\n",
       "</table>\n",
       "<p>5 rows × 42 columns</p>\n",
       "</div>"
      ],
      "text/plain": [
       "   Unnamed: 0       ID                    Date  DateType   Age     Sex  \\\n",
       "0           0  14-0273  06/28/2014 12:00:00 AM       1.0   NaN     NaN   \n",
       "1           1  13-0102  03/21/2013 12:00:00 AM       0.0  48.0    Male   \n",
       "2           2  16-0165  03/13/2016 12:00:00 AM       0.0  30.0  Female   \n",
       "3           3  16-0208  03/31/2016 12:00:00 AM       0.0  23.0    Male   \n",
       "4           4  13-0052  02/13/2013 12:00:00 AM       0.0  22.0    Male   \n",
       "\n",
       "           Race ResidenceCity ResidenceCounty ResidenceState  ... Tramad  \\\n",
       "0           NaN           NaN             NaN            NaN  ...      0   \n",
       "1         Black       NORWALK             NaN            NaN  ...      0   \n",
       "2         White    SANDY HOOK       FAIRFIELD             CT  ...      0   \n",
       "3         White           RYE     WESTCHESTER             NY  ...      0   \n",
       "4  Asian, Other      FLUSHING          QUEENS            NaN  ...      0   \n",
       "\n",
       "  Morphine_NotHeroin Hydromorphone Other OpiateNOS AnyOpioid MannerofDeath  \\\n",
       "0                  0             0   NaN         0         0      Accident   \n",
       "1                  0             0   NaN         0         0      Accident   \n",
       "2                  0             0   NaN         0         1      Accident   \n",
       "3                  0             0   NaN         0         1      Accident   \n",
       "4                  0             0   NaN         0         0      Accident   \n",
       "\n",
       "                             DeathCityGeo  \\\n",
       "0             CT\\n(41.575155, -72.738288)   \n",
       "1     Norwalk, CT\\n(41.11805, -73.412906)   \n",
       "2    Danbury, CT\\n(41.393666, -73.451539)   \n",
       "3  Greenwich, CT\\n(41.026526, -73.628549)   \n",
       "4  Greenwich, CT\\n(41.026526, -73.628549)   \n",
       "\n",
       "                          ResidenceCityGeo                InjuryCityGeo  \n",
       "0              CT\\n(41.575155, -72.738288)  CT\\n(41.575155, -72.738288)  \n",
       "1      NORWALK, CT\\n(41.11805, -73.412906)  CT\\n(41.575155, -72.738288)  \n",
       "2  SANDY HOOK, CT\\n(41.419998, -73.282501)                          NaN  \n",
       "3                                      NaN                          NaN  \n",
       "4                                      NaN  CT\\n(41.575155, -72.738288)  \n",
       "\n",
       "[5 rows x 42 columns]"
      ]
     },
     "execution_count": 11,
     "metadata": {},
     "output_type": "execute_result"
    }
   ],
   "source": [
    "drugs.head()"
   ]
  },
  {
   "cell_type": "code",
   "execution_count": 9,
   "id": "bbcc1d34",
   "metadata": {},
   "outputs": [
    {
     "data": {
      "text/plain": [
       "Index(['Unnamed: 0', 'ID', 'Date', 'DateType', 'Age', 'Sex', 'Race',\n",
       "       'ResidenceCity', 'ResidenceCounty', 'ResidenceState', 'DeathCity',\n",
       "       'DeathCounty', 'Location', 'LocationifOther', 'DescriptionofInjury',\n",
       "       'InjuryPlace', 'InjuryCity', 'InjuryCounty', 'InjuryState', 'COD',\n",
       "       'OtherSignifican', 'Heroin', 'Cocaine', 'Fentanyl', 'Fentanyl_Analogue',\n",
       "       'Oxycodone', 'Oxymorphone', 'Ethanol', 'Hydrocodone', 'Benzodiazepine',\n",
       "       'Methadone', 'Amphet', 'Tramad', 'Morphine_NotHeroin', 'Hydromorphone',\n",
       "       'Other', 'OpiateNOS', 'AnyOpioid', 'MannerofDeath', 'DeathCityGeo',\n",
       "       'ResidenceCityGeo', 'InjuryCityGeo'],\n",
       "      dtype='object')"
      ]
     },
     "execution_count": 9,
     "metadata": {},
     "output_type": "execute_result"
    }
   ],
   "source": [
    "drugs.columns"
   ]
  },
  {
   "cell_type": "markdown",
   "id": "0d3f53fd",
   "metadata": {},
   "source": [
    "# How many men versus women are dying from the overdoses in the dataset?"
   ]
  },
  {
   "cell_type": "code",
   "execution_count": 27,
   "id": "786664ef",
   "metadata": {
    "scrolled": true
   },
   "outputs": [
    {
     "data": {
      "text/html": [
       "<div style=\"float: left; padding: 10px;\">\n",
       "    <p style='font-family:\"Courier New\", Courier, monospace'>drugs.groupby('Sex').count()</p><div>\n",
       "<style scoped>\n",
       "    .dataframe tbody tr th:only-of-type {\n",
       "        vertical-align: middle;\n",
       "    }\n",
       "\n",
       "    .dataframe tbody tr th {\n",
       "        vertical-align: top;\n",
       "    }\n",
       "\n",
       "    .dataframe thead th {\n",
       "        text-align: right;\n",
       "    }\n",
       "</style>\n",
       "<table border=\"1\" class=\"dataframe\">\n",
       "  <thead>\n",
       "    <tr style=\"text-align: right;\">\n",
       "      <th></th>\n",
       "      <th>Unnamed: 0</th>\n",
       "      <th>ID</th>\n",
       "      <th>Date</th>\n",
       "      <th>DateType</th>\n",
       "      <th>Age</th>\n",
       "      <th>Race</th>\n",
       "      <th>ResidenceCity</th>\n",
       "      <th>ResidenceCounty</th>\n",
       "      <th>ResidenceState</th>\n",
       "      <th>DeathCity</th>\n",
       "      <th>...</th>\n",
       "      <th>Tramad</th>\n",
       "      <th>Morphine_NotHeroin</th>\n",
       "      <th>Hydromorphone</th>\n",
       "      <th>Other</th>\n",
       "      <th>OpiateNOS</th>\n",
       "      <th>AnyOpioid</th>\n",
       "      <th>MannerofDeath</th>\n",
       "      <th>DeathCityGeo</th>\n",
       "      <th>ResidenceCityGeo</th>\n",
       "      <th>InjuryCityGeo</th>\n",
       "    </tr>\n",
       "    <tr>\n",
       "      <th>Sex</th>\n",
       "      <th></th>\n",
       "      <th></th>\n",
       "      <th></th>\n",
       "      <th></th>\n",
       "      <th></th>\n",
       "      <th></th>\n",
       "      <th></th>\n",
       "      <th></th>\n",
       "      <th></th>\n",
       "      <th></th>\n",
       "      <th></th>\n",
       "      <th></th>\n",
       "      <th></th>\n",
       "      <th></th>\n",
       "      <th></th>\n",
       "      <th></th>\n",
       "      <th></th>\n",
       "      <th></th>\n",
       "      <th></th>\n",
       "      <th></th>\n",
       "      <th></th>\n",
       "    </tr>\n",
       "  </thead>\n",
       "  <tbody>\n",
       "    <tr>\n",
       "      <th>Female</th>\n",
       "      <td>1325</td>\n",
       "      <td>1325</td>\n",
       "      <td>1325</td>\n",
       "      <td>1325</td>\n",
       "      <td>1325</td>\n",
       "      <td>1320</td>\n",
       "      <td>1281</td>\n",
       "      <td>1100</td>\n",
       "      <td>886</td>\n",
       "      <td>1325</td>\n",
       "      <td>...</td>\n",
       "      <td>1325</td>\n",
       "      <td>1325</td>\n",
       "      <td>1325</td>\n",
       "      <td>157</td>\n",
       "      <td>1325</td>\n",
       "      <td>1325</td>\n",
       "      <td>1325</td>\n",
       "      <td>1325</td>\n",
       "      <td>1302</td>\n",
       "      <td>1309</td>\n",
       "    </tr>\n",
       "    <tr>\n",
       "      <th>Male</th>\n",
       "      <td>3773</td>\n",
       "      <td>3773</td>\n",
       "      <td>3772</td>\n",
       "      <td>3772</td>\n",
       "      <td>3773</td>\n",
       "      <td>3768</td>\n",
       "      <td>3647</td>\n",
       "      <td>3204</td>\n",
       "      <td>2666</td>\n",
       "      <td>3771</td>\n",
       "      <td>...</td>\n",
       "      <td>3773</td>\n",
       "      <td>3773</td>\n",
       "      <td>3773</td>\n",
       "      <td>278</td>\n",
       "      <td>3773</td>\n",
       "      <td>3773</td>\n",
       "      <td>3764</td>\n",
       "      <td>3773</td>\n",
       "      <td>3703</td>\n",
       "      <td>3711</td>\n",
       "    </tr>\n",
       "    <tr>\n",
       "      <th>Unknown</th>\n",
       "      <td>1</td>\n",
       "      <td>1</td>\n",
       "      <td>1</td>\n",
       "      <td>1</td>\n",
       "      <td>1</td>\n",
       "      <td>1</td>\n",
       "      <td>1</td>\n",
       "      <td>1</td>\n",
       "      <td>1</td>\n",
       "      <td>1</td>\n",
       "      <td>...</td>\n",
       "      <td>1</td>\n",
       "      <td>1</td>\n",
       "      <td>1</td>\n",
       "      <td>0</td>\n",
       "      <td>1</td>\n",
       "      <td>1</td>\n",
       "      <td>1</td>\n",
       "      <td>1</td>\n",
       "      <td>1</td>\n",
       "      <td>1</td>\n",
       "    </tr>\n",
       "  </tbody>\n",
       "</table>\n",
       "<p>3 rows × 41 columns</p>\n",
       "</div>\n",
       "    </div>"
      ],
      "text/plain": [
       "drugs.groupby('Sex').count()\n",
       "         Unnamed: 0    ID  Date  DateType   Age  Race  ResidenceCity  \\\n",
       "Sex                                                                    \n",
       "Female         1325  1325  1325      1325  1325  1320           1281   \n",
       "Male           3773  3773  3772      3772  3773  3768           3647   \n",
       "Unknown           1     1     1         1     1     1              1   \n",
       "\n",
       "         ResidenceCounty  ResidenceState  DeathCity  ...  Tramad  \\\n",
       "Sex                                                  ...           \n",
       "Female              1100             886       1325  ...    1325   \n",
       "Male                3204            2666       3771  ...    3773   \n",
       "Unknown                1               1          1  ...       1   \n",
       "\n",
       "         Morphine_NotHeroin  Hydromorphone  Other  OpiateNOS  AnyOpioid  \\\n",
       "Sex                                                                       \n",
       "Female                 1325           1325    157       1325       1325   \n",
       "Male                   3773           3773    278       3773       3773   \n",
       "Unknown                   1              1      0          1          1   \n",
       "\n",
       "         MannerofDeath  DeathCityGeo  ResidenceCityGeo  InjuryCityGeo  \n",
       "Sex                                                                    \n",
       "Female            1325          1325              1302           1309  \n",
       "Male              3764          3773              3703           3711  \n",
       "Unknown              1             1                 1              1  \n",
       "\n",
       "[3 rows x 41 columns]"
      ]
     },
     "execution_count": 27,
     "metadata": {},
     "output_type": "execute_result"
    }
   ],
   "source": [
    "# Examine how many women versus men died from overdoses\n",
    "display(\"drugs.groupby('Sex').count()\")"
   ]
  },
  {
   "cell_type": "markdown",
   "id": "1c6509ee",
   "metadata": {},
   "source": [
    "We can see that significantly more men died from overdoses than women. Lets see the percentages."
   ]
  },
  {
   "cell_type": "code",
   "execution_count": 31,
   "id": "f316a816",
   "metadata": {},
   "outputs": [
    {
     "name": "stdout",
     "output_type": "stream",
     "text": [
      "Overdose Percentages: Men Versus Women\n",
      "Men: 74.01%\n",
      "Women: 25.99%\n"
     ]
    }
   ],
   "source": [
    "fraction_male_deaths = (3773 / 5098)\n",
    "fraction_female_deaths = 1 - fraction_male_deaths\n",
    "percent_male_deaths = np.round(fraction_male_deaths * 100, 2)\n",
    "percent_female_deaths = np.round(fraction_female_deaths * 100, 2)\n",
    "print(\"Overdose Percentages: Men Versus Women\")\n",
    "print(f\"Men: {percent_male_deaths}%\")\n",
    "print(f\"Women: {percent_female_deaths}%\")\n"
   ]
  },
  {
   "cell_type": "markdown",
   "id": "4c3cfb03",
   "metadata": {},
   "source": [
    "# Distribution of Deaths by Age"
   ]
  },
  {
   "cell_type": "code",
   "execution_count": 45,
   "id": "6abcb8e2",
   "metadata": {},
   "outputs": [
    {
     "data": {
      "image/png": "[encoded data removed]",
      "text/plain": [
       "<Figure size 432x288 with 1 Axes>"
      ]
     },
     "metadata": {},
     "output_type": "display_data"
    }
   ],
   "source": [
    "plt.style.use('dark_background')\n",
    "drugs.Age.hist(edgecolor='r')\n",
    "plt.title('Distribution of Overdose Deaths by Age',\n",
    "          fontsize=17, family='Helvetica')\n",
    "plt.ylabel('Frequency of Deaths', fontsize=15)\n",
    "plt.xlabel('Ages', fontsize=17);"
   ]
  },
  {
   "cell_type": "markdown",
   "id": "9ce4ec2d",
   "metadata": {},
   "source": [
    "After looking at the distribution visually with a histogram, we can see that the highest number of overdoses is in the age span of roughly 30 years old to 50 years old."
   ]
  },
  {
   "cell_type": "markdown",
   "id": "cd2c0b84",
   "metadata": {},
   "source": [
    "# Requirement 4:\n",
    "- I do not deserve a good grade for this assignment. I would say C at best. I am going to keep working on this for fun but I did not put enough time into it before the deadline. I am very excited after taking the course and having learned so many new cool things. "
   ]
  },
  {
   "cell_type": "markdown",
   "id": "b4aa23ec",
   "metadata": {},
   "source": [
    "# Requirement 5:\n",
    "- This was not a good experience for me but it is my own fault. I have learned a lot over the summer about staying focused and knowing my limits. I was trying to do too much between work, school, and other life responsibilities. I am still grateful I took this course and excited for my future. I felt like I understood a lot of what is happening in the textbook but I need to practice working with datasets and developing my own questions, insights, and projects!"
   ]
  }
 ],
 "metadata": {
  "kernelspec": {
   "display_name": "Python 3",
   "language": "python",
   "name": "python3"
  },
  "language_info": {
   "codemirror_mode": {
    "name": "ipython",
    "version": 3
   },
   "file_extension": ".py",
   "mimetype": "text/x-python",
   "name": "python",
   "nbconvert_exporter": "python",
   "pygments_lexer": "ipython3",
   "version": "3.8.10"
  }
 },
 "nbformat": 4,
 "nbformat_minor": 5
}
