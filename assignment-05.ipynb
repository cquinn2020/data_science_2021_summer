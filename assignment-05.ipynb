{
 "cells": [
  {
   "cell_type": "markdown",
   "id": "21e25ecc",
   "metadata": {},
   "source": [
    "# This is Assignment 05 -Casey Quinn"
   ]
  },
  {
   "cell_type": "markdown",
   "id": "6e7e62b0",
   "metadata": {},
   "source": [
    "# Requirement 4"
   ]
  },
  {
   "cell_type": "code",
   "execution_count": 1,
   "id": "3829c391",
   "metadata": {},
   "outputs": [
    {
     "name": "stdout",
     "output_type": "stream",
     "text": [
      "Requirement 4: Demonstration of Aritmethic Operations\n",
      "\n",
      "Addition:\n",
      "2 + 6 = 8\n",
      "\n",
      "Subtraction:\n",
      "11 = 25 - 14\n",
      "\n",
      "Multiplication:\n",
      "648 = 9 * 6 * 4 * 3\n",
      "\n",
      "True Division:\n",
      "87.51866941857011 = 7865.876543333 / 89.876555432\n",
      "\n",
      "Floor Division:\n",
      "88 = 7865 // 89\n",
      "\n",
      "Exponentiation:\n",
      "2 ** 0 = 1\n"
     ]
    }
   ],
   "source": [
    "# Demonstration of arithmetic operations in a cell\n",
    "print('Requirement 4: Demonstration of Aritmethic Operations\\n')\n",
    "# addition:\n",
    "x = 2\n",
    "y = 6\n",
    "\n",
    "z = x + y\n",
    "print('Addition:')\n",
    "print(f'{x} + {y} = {z}')\n",
    "\n",
    "# subtraction:\n",
    "x = 25 - 14\n",
    "print('\\nSubtraction:')\n",
    "print(f'{x} = 25 - 14')\n",
    "\n",
    "# multiplication:\n",
    "x = 9 * 6 * 4 * 3\n",
    "print('\\nMultiplication:')\n",
    "print(f'{x} = 9 * 6 * 4 * 3')\n",
    "\n",
    "# true division:\n",
    "x = 7865.876543333 / 89.876555432\n",
    "print('\\nTrue Division:')\n",
    "print(f'{x} = 7865.876543333 / 89.876555432')\n",
    "\n",
    "# floor division:\n",
    "x = 7865 // 89\n",
    "print('\\nFloor Division:')\n",
    "print(f'{x} = 7865 // 89')\n",
    "\n",
    "# exponentiation:\n",
    "x = 2 ** 0\n",
    "print('\\nExponentiation:')\n",
    "print(f'2 ** 0 = {x}')"
   ]
  },
  {
   "cell_type": "markdown",
   "id": "3b89a356",
   "metadata": {},
   "source": [
    "# Requirement 5"
   ]
  },
  {
   "cell_type": "code",
   "execution_count": 2,
   "id": "fd18785b",
   "metadata": {},
   "outputs": [
    {
     "name": "stdout",
     "output_type": "stream",
     "text": [
      "Requirement 5: Demonstration of Comparison Operations:\n",
      "\n",
      "'==' Operation:\n",
      "2 = 2\n",
      "\n",
      "'!=' Operation:\n",
      "2 != 3\n",
      "\n",
      "'< & >' Operations:\n",
      "2 < 6 < 34\n",
      "1 < 6 < 789\n",
      "\n",
      "'<= & >=' Operations:\n",
      "4 <= 4 and 4 >= 4\n"
     ]
    }
   ],
   "source": [
    "# demonstration of comparison operations in a cell\n",
    "print('Requirement 5: Demonstration of Comparison Operations:')\n",
    "# using the '==' operator\n",
    "print(\"\\n'==' Operation:\")\n",
    "\n",
    "num1 = 2\n",
    "num2 = 2\n",
    "\n",
    "if num1 == num2:\n",
    "    print(f'{num1} = {num2}')\n",
    "    \n",
    "# using the '!=' operator\n",
    "print(\"\\n'!=' Operation:\")\n",
    "\n",
    "num1 = 2\n",
    "num2 = 3\n",
    "\n",
    "if num1 != num2:\n",
    "    print(f'{num1} != {num2}')\n",
    "    \n",
    "    \n",
    "# using the '< & >' operators:\n",
    "print(\"\\n'< & >' Operations:\")\n",
    "\n",
    "num1 = 6\n",
    "\n",
    "if (2 < num1 < 34):\n",
    "    print(f'2 < {num1} < 34')\n",
    "    \n",
    "if num1 > 1 and num1 < 789:\n",
    "    print(f'1 < {num1} < 789')\n",
    "    \n",
    "# using the '<= & >=' operators:\n",
    "print(\"\\n'<= & >=' Operations:\")\n",
    "x = 4\n",
    "\n",
    "if x <= 4 and x >= 4:\n",
    "    print(f'{x} <= 4 and {x} >= 4')\n",
    "    \n",
    "    "
   ]
  },
  {
   "cell_type": "markdown",
   "id": "e17f5196",
   "metadata": {},
   "source": [
    "# Requirement 6"
   ]
  },
  {
   "cell_type": "code",
   "execution_count": 3,
   "id": "5dd0982b",
   "metadata": {},
   "outputs": [
    {
     "name": "stdout",
     "output_type": "stream",
     "text": [
      "Requirement 4: Demonstration of Aritmethic Operations\r\n",
      "\r\n",
      "Addition:\r\n",
      "2 + 6 = 8\r\n",
      "\r\n",
      "Subtraction:\r\n",
      "11 = 25 - 14\r\n",
      "\r\n",
      "Multiplication:\r\n",
      "648 = 9 * 6 * 4 * 3\r\n",
      "\r\n",
      "True Division:\r\n",
      "87.51866941857011 = 7865.876543333 / 89.876555432\r\n",
      "\r\n",
      "Floor Division:\r\n",
      "88 = 7865 // 89\r\n",
      "\r\n",
      "Exponentiation:\r\n",
      "2 ** 0 = 1\r\n",
      "\r\n",
      "Requirement 5: Demonstration of Comparison Operations:\r\n",
      "\r\n",
      "Comparion Operations:\r\n",
      "\r\n",
      "'==' Operation:\r\n",
      "2 = 2\r\n",
      "\r\n",
      "'!=' Operation:\r\n",
      "2 != 3\r\n",
      "\r\n",
      "'< & >' Operations:\r\n",
      "2 < 6 < 34\r\n",
      "1 < 6 < 789\r\n",
      "\r\n",
      "'<= & >=' Operations:\r\n",
      "4 <= 4 and 4 >= 4\r\n"
     ]
    }
   ],
   "source": [
    "# importing the operators.py program that was created in idle shell and executing\n",
    "!python /Users/caseyquinn/Desktop/operators.py"
   ]
  },
  {
   "cell_type": "markdown",
   "id": "611c7429",
   "metadata": {},
   "source": [
    "# Requirement 7"
   ]
  },
  {
   "cell_type": "code",
   "execution_count": 4,
   "id": "7ee8d351",
   "metadata": {},
   "outputs": [
    {
     "name": "stdout",
     "output_type": "stream",
     "text": [
      "Requirement 7: Working with lists\n",
      "\n",
      "Even List: [1346, 3874, 4742, 1846, 176, 3184, 272, 3850, 1838, 978, 1754, 4400, 882]\n",
      "Odd List: [4859, 1761, 4683, 1563, 497, 1301, 2853]\n"
     ]
    }
   ],
   "source": [
    "# working with lists\n",
    "\n",
    "# importing numpy to use random integer generator function\n",
    "import numpy as np\n",
    "# creating two lists that each have 10 arbitrary integers in range -5000 to 5000\n",
    "list_1 = list(np.random.randint(5001, size=10)) \n",
    "list_2 = list(np.random.randint(5001, size=10))\n",
    "\n",
    "# creating 2 empty lists, one for even numbers and one for odd numbers\n",
    "list_even = [] ; list_odd = []\n",
    "\n",
    "# populating the empty lists appropriately according to whether the numbers are even or odd\n",
    "\n",
    "# -loop through list_1 and check whether the number is even or odd and append to\n",
    "# corresponding list\n",
    "for num in list_1:\n",
    "    if num % 2 == 0:\n",
    "        list_even.append(num)\n",
    "    else:\n",
    "        list_odd.append(num)\n",
    "        \n",
    "# -loop through list_2 and check whether the number is even or odd and append to\n",
    "# corresponding list\n",
    "for num in list_2:\n",
    "    if num % 2 == 0:\n",
    "        list_even.append(num)\n",
    "    else:\n",
    "        list_odd.append(num)\n",
    "print('Requirement 7: Working with lists\\n')\n",
    "# output list_even and list_odd\n",
    "print(f'Even List: {list_even}\\nOdd List: {list_odd}')"
   ]
  },
  {
   "cell_type": "markdown",
   "id": "93b08da3",
   "metadata": {},
   "source": [
    "# Requirement 8 "
   ]
  },
  {
   "cell_type": "code",
   "execution_count": 5,
   "id": "41895c64",
   "metadata": {},
   "outputs": [
    {
     "name": "stdout",
     "output_type": "stream",
     "text": [
      "Requirement 8: Demonstration of the method is_integer()\n",
      "\n",
      "0.0 is an integer.\n",
      "-3.4 is a float.\n",
      "78.0 is an integer.\n",
      "89.3 is a float.\n",
      "5.0 is an integer.\n",
      "3.0 is an integer.\n",
      "56.4 is a float.\n",
      "7.453535 is a float.\n"
     ]
    }
   ],
   "source": [
    "# Demonstrate the use of the method is_integer() to test if numbers qualify as integers\n",
    "print('Requirement 8: Demonstration of the method is_integer()\\n')\n",
    "# create list that has some integers and some floats in it (all have to be floating point numbers tho)\n",
    "list_3 = [0.0, -3.4, 78.0, 89.3, 5.0, 3.0, 56.4, 7.453535]\n",
    "\n",
    "for num in list_3:\n",
    "    if num.is_integer() == True:\n",
    "        print(f'{num} is an integer.')\n",
    "    else:\n",
    "        print(f'{num} is a float.')"
   ]
  },
  {
   "cell_type": "markdown",
   "id": "9096a58c",
   "metadata": {},
   "source": [
    "# Requirement 9"
   ]
  },
  {
   "cell_type": "code",
   "execution_count": 4,
   "id": "b765ab30",
   "metadata": {},
   "outputs": [
    {
     "name": "stdout",
     "output_type": "stream",
     "text": [
      "This customer must love steak!\n",
      "How would you like your steak prepared this evening?\n",
      "Negative numbers from the list:\n",
      "-67\n",
      "-98\n",
      "-45.32221\n",
      "\n",
      "True/False Question Answers:\n",
      "True\n",
      "False\n",
      "The answer to the 1st membership operator is True!\n",
      "The answer to the 2nd membership operator is True!\n"
     ]
    }
   ],
   "source": [
    "# -demonstrate the following Boolean, Identity, and Membership \n",
    "# operations in a cell -> and, or, not, is, is not, in, not in\n",
    "# , object identity\n",
    "\n",
    "\n",
    "# create a lists of coworkers coworkers to work with for the cell\n",
    "coworkers = ['Casey', 'Spencer', 'Charlie', 'Emily', 'Chef Ken']\n",
    "# dinner items\n",
    "order = ['Porcini Bone-In Ribye', 'Tomahawk', 'Filet Mignon', 'New York Strip',\n",
    "             'Porterhouse', \"Chef's Sliced Filet\"]\n",
    "if 'Porcini Bone-In Ribye' and \"Chef's Sliced Filet\" in order: # and \n",
    "    print('This customer must love steak!')\n",
    "# define customer variable that asks a question if a customer orders a steak\n",
    "customerQuestion = 'How would you like your steak prepared this evening?'\n",
    "if 'Tomahawk' or 'Filet Mignon' in order: # or/in\n",
    "    print(customerQuestion) \n",
    "\n",
    "numbers = [-67, -98, 90, 0, 65.34, 0.009, -45.32221, 98.654]  \n",
    "print('Negative numbers from the list:')\n",
    "for num in numbers:\n",
    "    if not(num >= 0): # not\n",
    "        print(num) # this should print numbers <= 0 ?\n",
    "        \n",
    "# import pandas and create df to work with \n",
    "import pandas as pd\n",
    "import numpy as np\n",
    "# create salaries data ranging from 4000 - 20000\n",
    "salaries = np.random.randint(low=4000, high=2e6, size=1000, dtype=int)\n",
    "# create random employee rankings and \n",
    "employeeRanking = np.random.randint(low=0, high=100, size=1000, dtype=int)\n",
    "frame = {'yearlyCompensation': pd.Series(salaries), 'employeeRanking': pd.Series(employeeRanking)}\n",
    "df = pd.DataFrame(frame)\n",
    "# sort the columns \n",
    "df = df.sort_values(by=['yearlyCompensation', 'employeeRanking'])\n",
    "filt = (df['yearlyCompensation'] >= 500000) & (df['employeeRanking'] >= 50)\n",
    "topPerformers = df[filt]\n",
    "df.reset_index(inplace=True, drop=True)\n",
    "# create identical objects and compare with true false questions\n",
    "seriesObject = df['yearlyCompensation']\n",
    "copySeriesObject = seriesObject\n",
    "# true/ false answer questions\n",
    "print('\\nTrue/False Question Answers:')\n",
    "print(seriesObject is copySeriesObject) # is\n",
    "print(seriesObject is not copySeriesObject) # is not\n",
    "\n",
    "# -Membership Operators\n",
    "friendsNames = ['Jason', 'Connor', 'Ty', 'Bria', 'Edgar']\n",
    "\n",
    "# membership operators check for membership within compound objects \n",
    "\n",
    "# create answer variable (should be true or false)\n",
    "answer = 'Jason' in friendsNames # very cool that you can create a variable that is a membership operator statement\n",
    "answer2 = 'Charlie' not in friendsNames\n",
    "print(f'The answer to the 1st membership operator is {answer}!')\n",
    "print(f'The answer to the 2nd membership operator is {answer2}!')\n"
   ]
  },
  {
   "cell_type": "markdown",
   "id": "17b78cd5",
   "metadata": {
    "scrolled": true
   },
   "source": [
    "# Requirement 10"
   ]
  },
  {
   "cell_type": "code",
   "execution_count": 10,
   "id": "9f39176c",
   "metadata": {},
   "outputs": [
    {
     "name": "stdout",
     "output_type": "stream",
     "text": [
      "1/3 at 1 decimal precision: 0.3\n",
      "1/3 at 2 decimal precision: 0.33\n",
      "1/3 at 3 decimal precision: 0.333\n",
      "1/3 at 4 decimal precision: 0.3333\n",
      "1/3 at 5 decimal precision: 0.33333\n"
     ]
    }
   ],
   "source": [
    "# -Recall that 1/3 is a decimal that keeps going on forever (0.333etc)\n",
    "# -To demonstrate variable precision I will assign a variable to 1/3 and print the decimal\n",
    "# number at different precision points\n",
    "\n",
    "fraction = (1/3)\n",
    "print(f'1/3 at 1 decimal precision: {fraction:.1f}')\n",
    "print(f'1/3 at 2 decimal precision: {fraction:.2f}')\n",
    "print(f'1/3 at 3 decimal precision: {fraction:.3f}')\n",
    "print(f'1/3 at 4 decimal precision: {fraction:.4f}')\n",
    "print(f'1/3 at 5 decimal precision: {fraction:.5f}')"
   ]
  },
  {
   "cell_type": "markdown",
   "id": "ec6e326f",
   "metadata": {},
   "source": [
    "# Requirement 11"
   ]
  },
  {
   "cell_type": "code",
   "execution_count": 18,
   "id": "2c8b57e2",
   "metadata": {},
   "outputs": [
    {
     "name": "stdout",
     "output_type": "stream",
     "text": [
      "The length (number of characters) of the lenString variable is 31.\n",
      "My name is Casey! Nice to meet you.\n",
      "My name is Casey Quinn.\n",
      "SillySillySillySillySilly\n",
      "C\n",
      "a\n",
      "s\n",
      "e\n",
      "y\n",
      " \n",
      "R\n",
      "y\n",
      "a\n",
      "n\n",
      " \n",
      "Q\n",
      "u\n",
      "i\n",
      "n\n",
      "n\n"
     ]
    }
   ],
   "source": [
    "# -Demonstrate the following string operations in a cell\n",
    "# * len, upper(), capitalize(), concant, multi-concatenation, access of individual characters\n",
    "\n",
    "# Define a string.\n",
    "lenString = 'wiuqvbiu3bfvu3q uq3hvh4i *** 29'\n",
    "\n",
    "print(f'The length (number of characters) of the lenString variable is {len(lenString)}.')\n",
    "\n",
    "name = 'casey'\n",
    "name = name.capitalize()\n",
    "print(f'My name is {name}! Nice to meet you.')\n",
    "\n",
    "# I like this method.\n",
    "name = 'casey quinn'\n",
    "print('My name is', name.title() + '.') # using string concantenation\n",
    "\n",
    "# Using Multi-Concantenation:\n",
    "word = 'Silly'\n",
    "word *= 5\n",
    "print(word)\n",
    "\n",
    "# access of individual characters\n",
    "# -> access each character of my name and print them one at a time\n",
    "myName = 'Casey Ryan Quinn'\n",
    "\n",
    "for character in range(len(myName)):\n",
    "    print(myName[character])\n"
   ]
  },
  {
   "cell_type": "markdown",
   "id": "a157a4a6",
   "metadata": {},
   "source": [
    "# Requirement 12:\n",
    "\n",
    "# Experiences with Assignment05:\n",
    "# I have really enjoy working on this assignment. I took an Engineering class at Texas A&M called Engineering Computation where we learned Python and used it to solve problems. I built a good foundation in that class with Python but as I read this material and completed the assignment it was a great refresher and I also learned a lot of new things. It is ancient wisdom that we need to build our homes/lives/etc on strong foundations and I want to be a data scientist/software engineer so assignments like this will hopefully strengthen my foundation!"
   ]
  }
 ],
 "metadata": {
  "kernelspec": {
   "display_name": "Python 3",
   "language": "python",
   "name": "python3"
  },
  "language_info": {
   "codemirror_mode": {
    "name": "ipython",
    "version": 3
   },
   "file_extension": ".py",
   "mimetype": "text/x-python",
   "name": "python",
   "nbconvert_exporter": "python",
   "pygments_lexer": "ipython3",
   "version": "3.8.10"
  }
 },
 "nbformat": 4,
 "nbformat_minor": 5
}
