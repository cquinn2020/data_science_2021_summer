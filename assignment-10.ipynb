{
 "cells": [
  {
   "cell_type": "markdown",
   "id": "d75db6ba",
   "metadata": {},
   "source": [
    "# Requirement 2:"
   ]
  },
  {
   "cell_type": "markdown",
   "id": "20979e59",
   "metadata": {},
   "source": [
    "# This is Assignment 10 -Casey Quinn"
   ]
  },
  {
   "cell_type": "markdown",
   "id": "c05d2930",
   "metadata": {},
   "source": [
    "# Requirement 3:"
   ]
  },
  {
   "cell_type": "code",
   "execution_count": 1,
   "id": "ff44dced",
   "metadata": {},
   "outputs": [
    {
     "name": "stdout",
     "output_type": "stream",
     "text": [
      "Array:\n",
      " [1 5 4 4 6 6 7 9 3 3 1 5 7 4 8 5 5 4 5 4]\n",
      "Is the element less than 5?\n",
      " [ True False  True  True False False False False  True  True  True False\n",
      " False  True False False False  True False  True]\n",
      "Is the element greater than 2?\n",
      " [False  True  True  True  True  True  True  True  True  True False  True\n",
      "  True  True  True  True  True  True  True  True]\n",
      "Is that element equal to 7?\n",
      " [False False False False False False  True False False False False False\n",
      "  True False False False False False False False]\n",
      "Is the element greater than or equal to 2?\n",
      " [False  True  True  True  True  True  True  True  True  True False  True\n",
      "  True  True  True  True  True  True  True  True]\n",
      "Is the element not equal to 6?\n",
      " [ True  True  True  True False False  True  True  True  True  True  True\n",
      "  True  True  True  True  True  True  True  True]\n",
      "Is the element less than or equal to 2?\n",
      " [ True False False False False False False False False False  True False\n",
      " False False False False False False False False]\n"
     ]
    }
   ],
   "source": [
    "# create one_d_array of 20 rand nums from 1-10\n",
    "import numpy as np\n",
    "one_d_array = np.random.randint(1, 11, size=20)\n",
    "print('Array:\\n', one_d_array)\n",
    "print('Is the element less than 5?\\n', one_d_array < 5)\n",
    "print('Is the element greater than 2?\\n', one_d_array > 2)\n",
    "print('Is that element equal to 7?\\n', one_d_array == 7)\n",
    "print('Is the element greater than or equal to 2?\\n', one_d_array >= 2)\n",
    "print('Is the element not equal to 6?\\n', one_d_array != 6)\n",
    "print('Is the element less than or equal to 2?\\n', one_d_array <= 2)\n"
   ]
  },
  {
   "cell_type": "markdown",
   "id": "bd61a5b0",
   "metadata": {},
   "source": [
    "# Requirement 4:"
   ]
  },
  {
   "cell_type": "code",
   "execution_count": 2,
   "id": "2ad2ad31",
   "metadata": {},
   "outputs": [
    {
     "name": "stdout",
     "output_type": "stream",
     "text": [
      "2-D array:\n",
      "[[17 13 24 22 22]\n",
      " [12 11 28 12 18]\n",
      " [20 16 14 26 15]\n",
      " [34 23 24 16 13]]\n",
      "Element less than 22.5?\n",
      "[[ True  True False  True  True]\n",
      " [ True  True False  True  True]\n",
      " [ True  True  True False  True]\n",
      " [False False False  True  True]]\n",
      "Element greater than 22.5?\n",
      "[[False False  True False False]\n",
      " [False False  True False False]\n",
      " [False False False  True False]\n",
      " [ True  True  True False False]]\n",
      "Element equal to 22?\n",
      "[[False False False  True  True]\n",
      " [False False False False False]\n",
      " [False False False False False]\n",
      " [False False False False False]]\n",
      "Element less than or equal to 5?\n",
      "[[False False False False False]\n",
      " [False False False False False]\n",
      " [False False False False False]\n",
      " [False False False False False]]\n",
      "Element greater than or equal to 5?\n",
      "[[ True  True  True  True  True]\n",
      " [ True  True  True  True  True]\n",
      " [ True  True  True  True  True]\n",
      " [ True  True  True  True  True]]\n",
      "Element not equal to 22?\n",
      "[[ True  True  True False False]\n",
      " [ True  True  True  True  True]\n",
      " [ True  True  True  True  True]\n",
      " [ True  True  True  True  True]]\n"
     ]
    }
   ],
   "source": [
    "# create 2d array named two_d_array with size=(4, 5) with any vals\n",
    "# between 11-34. \n",
    "two_d_array = np.random.randint(11, 35, size=(4, 5))\n",
    "print(f'2-D array:\\n{two_d_array}')\n",
    "print(f'Element less than 22.5?\\n{two_d_array < 22.5}')\n",
    "print(f'Element greater than 22.5?\\n{two_d_array > 22.5}')\n",
    "print(f'Element equal to 22?\\n{two_d_array == 22}')\n",
    "print(f'Element less than or equal to 5?\\n{two_d_array <= 5}')\n",
    "print(f'Element greater than or equal to 5?\\n{two_d_array >= 5}')\n",
    "print(f'Element not equal to 22?\\n{two_d_array != 22}')"
   ]
  },
  {
   "cell_type": "markdown",
   "id": "1155f63b",
   "metadata": {},
   "source": [
    "# Requirement 5: "
   ]
  },
  {
   "cell_type": "code",
   "execution_count": 3,
   "id": "8f2284c5",
   "metadata": {},
   "outputs": [
    {
     "name": "stdout",
     "output_type": "stream",
     "text": [
      "/Users/caseyquinn/Desktop/data_science_1/data\n"
     ]
    }
   ],
   "source": [
    "cd /Users/caseyquinn/Desktop/data_science_1/data"
   ]
  },
  {
   "cell_type": "code",
   "execution_count": 4,
   "id": "a92f2e7b",
   "metadata": {},
   "outputs": [
    {
     "name": "stdout",
     "output_type": "stream",
     "text": [
      "Using & operator:\n",
      "The number of days with rainfall greater than 0.15 inches and less\n",
      " than 1.15 inches is 83.\n",
      "Using the ~ and | operators to achieve same solution:\n",
      "The number of days with rainfall greater than 0.15 inches and less\n",
      " than 1.15 inches is 83.\n"
     ]
    }
   ],
   "source": [
    "import numpy as np\n",
    "import pandas as pd\n",
    "rainfall = pd.read_csv('Seattle2014.csv')['PRCP'].values\n",
    "inches = rainfall / 254.0\n",
    "# get numdays with &\n",
    "numDays = np.sum((inches >= 0.15) & (inches <= 1.15))\n",
    "print('Using & operator:')\n",
    "print(f'The number of days with rainfall greater than 0.15 inches and less\\n than 1.15 inches is {numDays}.')\n",
    "# get the number of days using ~ and |\n",
    "print('Using the ~ and | operators to achieve same solution:')\n",
    "numDays = np.sum(~((inches < 0.15) | (inches > 1.15)))\n",
    "print(f'The number of days with rainfall greater than 0.15 inches and less\\n than 1.15 inches is {numDays}.')\n"
   ]
  },
  {
   "cell_type": "markdown",
   "id": "52ce83c7",
   "metadata": {},
   "source": [
    "# Requirement 6:"
   ]
  },
  {
   "cell_type": "code",
   "execution_count": 5,
   "id": "59cb0610",
   "metadata": {},
   "outputs": [
    {
     "name": "stdout",
     "output_type": "stream",
     "text": [
      "The number of days without rain is:\n",
      "215 days\n",
      "The number of days with rain is:\n",
      "150 days\n",
      "The number of days with rain greater than or equal to 1 inch:\n",
      "8 days\n"
     ]
    }
   ],
   "source": [
    "# show the number of days without rain\n",
    "daysWithoutRain = np.sum(inches == 0)\n",
    "print(f'The number of days without rain is:\\n{daysWithoutRain} days')\n",
    "daysWithRain = np.sum(inches != 0)\n",
    "print(f'The number of days with rain is:\\n{daysWithRain} days')\n",
    "daysGreaterEqual1Inch = np.sum(inches >= 1)\n",
    "print(f'The number of days with rain greater than or equal to 1 inch:\\n{daysGreaterEqual1Inch} days')\n"
   ]
  },
  {
   "cell_type": "markdown",
   "id": "a43a0916",
   "metadata": {},
   "source": [
    "# Requirement 7:"
   ]
  },
  {
   "cell_type": "code",
   "execution_count": 6,
   "id": "ffffc9cf",
   "metadata": {},
   "outputs": [
    {
     "name": "stdout",
     "output_type": "stream",
     "text": [
      "2D array:\n",
      "[[17 13 24 22 22]\n",
      " [12 11 28 12 18]\n",
      " [20 16 14 26 15]\n",
      " [34 23 24 16 13]]\n",
      "Boolean Array:\n",
      "[[False  True False False False]\n",
      " [ True  True False  True False]\n",
      " [False False  True False False]\n",
      " [False False False False  True]]\n",
      "Array with values < 15:\n",
      "[13 12 11 12 14 13]\n"
     ]
    }
   ],
   "source": [
    "# show the two_d_array\n",
    "print(f'2D array:\\n{two_d_array}')\n",
    "# use boolean masking on two_d_array to return a Boolean array where < 15\n",
    "filt = (two_d_array < 15)\n",
    "print(f'Boolean Array:\\n{filt}')\n",
    "# return an array of values < 15\n",
    "array = two_d_array[filt]\n",
    "print(f'Array with values < 15:\\n{array}')"
   ]
  },
  {
   "cell_type": "markdown",
   "id": "c9c2a8bb",
   "metadata": {},
   "source": [
    "# Requirement 8:"
   ]
  },
  {
   "cell_type": "code",
   "execution_count": 7,
   "id": "0d322e4b",
   "metadata": {},
   "outputs": [
    {
     "name": "stdout",
     "output_type": "stream",
     "text": [
      "Median precipitation on the pouring days in 2014: 0.73 inches\n",
      "Median precipitation on summer days in 2014: 0.00 inches\n",
      "Maximum precipitation on summer days in 2014: 0.85 inches\n",
      "Median precipitation on non-summer pouring days in 2014: 0.72 inches\n"
     ]
    }
   ],
   "source": [
    "# define the definition of pouring -> creating the filter\n",
    "pouring = ( inches > 0.5 )\n",
    "# output the following:\n",
    "# 1) median precip on pouring days in 2014(inches)\n",
    "medianPouringDays = np.median(inches[pouring])\n",
    "print(f'Median precipitation on the pouring days in 2014: {medianPouringDays:.2f} inches')\n",
    "# 2) median precip on summer days in 2014(inches)\n",
    "# construct a mask of all the summer days (June 21 is 172nd day)\n",
    "days = np.arange(365)\n",
    "summer = (days > 172) & (days < 262)\n",
    "medianSummerDays = np.median(inches[summer])\n",
    "print(f'Median precipitation on summer days in 2014: {medianSummerDays:.2f} inches')\n",
    "# 3) max precip on summer days in 2014\n",
    "maxSummerDays = np.max(inches[summer])\n",
    "print(f'Maximum precipitation on summer days in 2014: {maxSummerDays:.2f} inches')\n",
    "# 4) median precipitation on non-summer pouring days in 2014(inches)\n",
    "filt = ( (~summer) & (pouring) )\n",
    "medNonSummerPouring = np.median(inches[filt])\n",
    "print(f'Median precipitation on non-summer pouring days in 2014: {medNonSummerPouring:.2f} inches')\n"
   ]
  },
  {
   "cell_type": "markdown",
   "id": "11720306",
   "metadata": {},
   "source": [
    "# Requirement 9:"
   ]
  },
  {
   "cell_type": "markdown",
   "id": "3429e6e5",
   "metadata": {},
   "source": [
    "When you use the relational operators 'and' and 'or' Python looks at the truth value of the entire object. On the other hand, when you use the '&' and '|' operators refer to bits within each object. The corresponding bits of the objects being compared to yield the result. One thing that is important is that when you have a NumPy array that is a Boolean array it is better to use the '&' and '|' operators."
   ]
  },
  {
   "cell_type": "markdown",
   "id": "a4bc5026",
   "metadata": {},
   "source": [
    "# Requirement 10: "
   ]
  },
  {
   "cell_type": "code",
   "execution_count": 8,
   "id": "0f482ec3",
   "metadata": {},
   "outputs": [
    {
     "name": "stdout",
     "output_type": "stream",
     "text": [
      "1-D array:\n",
      "[102  92  14 106  71  20 102 121  74  87 116  99 103 130 149  52   1  87\n",
      "  37 129  20  57  21  88  48  58  14  50 107  54  63 130  50 134  20  72\n",
      "  17 131  88  59  13   8  89  52 129  83  91 110   7  34  80  49 103 131\n",
      "   1 133  53 105   3  53 145  43  13  94  47  14  39  81 110  52  23 123\n",
      "  40  14  44  64  88  70   8  87 128 135  62 138  80 135  32 122   4  40\n",
      "  27 134  71  11  32  47  61  36  98 103]\n",
      "1-D array after fancy indexing of every other element:\n",
      "[102  14  71 102  74 116 103 149   1  37  20  21  48  14 107  63  50  20\n",
      "  17  88  13  89 129  91   7  80 103   1  53   3 145  13  47  39 110  23\n",
      "  40  44  88   8 128  62  80  32   4  27  71  32  61  98]\n",
      "\n",
      "\n",
      "2-D array (10x10):\n",
      "[[7.60922823e-01 1.46930951e-01 6.99016457e-01 1.18953316e-01\n",
      "  3.43567300e-02 6.97201117e-01 6.38979761e-01 8.77223276e-01\n",
      "  6.05819613e-01 4.18797808e-01]\n",
      " [4.88643117e-01 2.44434733e-01 7.91149751e-01 9.83690484e-01\n",
      "  7.55524265e-01 8.91114328e-01 7.75226727e-01 2.66749340e-01\n",
      "  6.05368209e-01 9.30010097e-01]\n",
      " [9.77139166e-01 2.27863322e-01 7.01391977e-01 7.19206074e-01\n",
      "  5.66228296e-01 7.98565150e-01 4.95157996e-02 2.59763976e-01\n",
      "  5.99481019e-01 7.16257380e-01]\n",
      " [7.48378000e-01 5.91755960e-01 5.85041436e-01 9.50560323e-01\n",
      "  4.51310791e-01 5.83033011e-01 6.65120646e-01 6.38672476e-01\n",
      "  5.84849777e-01 3.33748245e-01]\n",
      " [6.73637268e-01 8.80623929e-02 8.64303505e-01 5.78467194e-01\n",
      "  5.54845131e-01 6.26714177e-01 8.94499314e-01 7.75283883e-02\n",
      "  4.72070950e-01 9.84777610e-01]\n",
      " [3.16821026e-01 5.00816733e-01 3.61385162e-01 5.09959781e-01\n",
      "  5.21341865e-04 5.66643960e-01 8.46737256e-01 8.29851346e-01\n",
      "  1.66586970e-01 8.38215992e-01]\n",
      " [9.67824472e-01 5.14013435e-01 6.26196920e-01 1.02442958e-01\n",
      "  3.58435423e-01 5.38372253e-01 7.73264171e-01 5.34451711e-01\n",
      "  8.39082839e-01 5.18715027e-02]\n",
      " [3.25808433e-01 9.60359652e-01 6.27963153e-01 5.55068667e-01\n",
      "  3.55554584e-01 8.43034677e-01 6.04186350e-01 7.50862785e-01\n",
      "  8.78198060e-01 5.95644606e-01]\n",
      " [2.54770141e-01 9.86193031e-01 9.13773637e-01 6.09522766e-01\n",
      "  9.64119572e-01 1.87869487e-02 4.43693706e-01 1.33612759e-01\n",
      "  8.79080392e-01 5.35718359e-01]\n",
      " [8.52777451e-01 6.05781795e-01 5.42185541e-01 4.84957092e-01\n",
      "  3.28871475e-02 9.24123826e-01 1.30532919e-01 9.24380907e-01\n",
      "  6.29276754e-01 2.01353221e-01]]\n"
     ]
    }
   ],
   "source": [
    "# demonstrate fancy indexing with 1-d array\n",
    "# generate the 1d array\n",
    "import numpy as np\n",
    "rand = np.random.RandomState(42)\n",
    "nums = rand.randint(150, size=100)\n",
    "print(f'1-D array:\\n{nums}')\n",
    "indices = [num for num in range(0, 100, 2)] # create list of indices to filter out\n",
    "print(f'1-D array after fancy indexing of every other element:\\n{nums[indices]}')\n",
    "\n",
    "# create 10x10 array of random floats\n",
    "M = np.random.random_sample(size=100).reshape(10, 10)\n",
    "print(f'\\n\\n2-D array (10x10):\\n{M}')\n",
    "filt = []"
   ]
  },
  {
   "cell_type": "markdown",
   "id": "7aae77b2",
   "metadata": {},
   "source": [
    "# Requirement 11:"
   ]
  },
  {
   "cell_type": "code",
   "execution_count": 9,
   "id": "f0445faf",
   "metadata": {},
   "outputs": [
    {
     "name": "stdout",
     "output_type": "stream",
     "text": [
      "This is a 2d array:\n",
      "\n",
      " [[17 13 24 22 22]\n",
      " [12 11 28 12 18]\n",
      " [20 16 14 26 15]\n",
      " [34 23 24 16 13]]\n",
      "\n",
      "Using combined indexing and slicing to return part of the array..\n",
      "[[12 11 28 12 18]\n",
      " [20 16 14 26 15]]\n",
      "Using masking and combined indexing to return part of the array..\n"
     ]
    },
    {
     "data": {
      "text/plain": [
       "array([[17, 13, 24, 22, 22],\n",
       "       [12, 11, 28, 12, 18],\n",
       "       [20, 16, 14, 26, 15],\n",
       "       [34, 23, 24, 16, 13]])"
      ]
     },
     "execution_count": 9,
     "metadata": {},
     "output_type": "execute_result"
    }
   ],
   "source": [
    "# demonstrate combined indexing with:\n",
    "# 1) two_d_array and slicing\n",
    "print('This is a 2d array:\\n\\n', two_d_array)\n",
    "print('\\nUsing combined indexing and slicing to return part of the array..')\n",
    "row = [1, 2]\n",
    "print(two_d_array[row, :])\n",
    "# 2) two_d_array and masking\n",
    "filt = ( two_d_array > 25 )\n",
    "print('Using masking and combined indexing to return part of the array..')\n",
    "two_d_array"
   ]
  },
  {
   "cell_type": "markdown",
   "id": "1cc5220f",
   "metadata": {},
   "source": [
    "# Requirement 12:"
   ]
  },
  {
   "cell_type": "code",
   "execution_count": 10,
   "id": "7c47b44e",
   "metadata": {},
   "outputs": [
    {
     "name": "stdout",
     "output_type": "stream",
     "text": [
      "Unsorted 2-D array:\n",
      "[[17 13 24 22 22]\n",
      " [12 11 28 12 18]\n",
      " [20 16 14 26 15]\n",
      " [34 23 24 16 13]]\n",
      "\n",
      "Sorting along each row:\n",
      "[[13 17 22 22 24]\n",
      " [11 12 12 18 28]\n",
      " [14 15 16 20 26]\n",
      " [13 16 23 24 34]]\n",
      "\n",
      "Sorting along each column:\n",
      "[[12 11 14 12 13]\n",
      " [17 13 24 16 15]\n",
      " [20 16 24 22 18]\n",
      " [34 23 28 26 22]]\n",
      "\n",
      "Partioning array such that first three values of each column are the lowest\n",
      " values in that column:\n",
      "[[12 11 14 12 15]\n",
      " [17 13 24 16 13]\n",
      " [20 16 24 22 18]\n",
      " [34 23 28 26 22]]\n"
     ]
    }
   ],
   "source": [
    "print(f'Unsorted 2-D array:\\n{two_d_array}')\n",
    "# sort along each row\n",
    "print(f'\\nSorting along each row:\\n{np.sort(two_d_array, axis=1)}')\n",
    "# sort along each column\n",
    "print(f'\\nSorting along each column:\\n{np.sort(two_d_array, axis=0)}')\n",
    "# -Partition the array such that the first three values in each column are the\n",
    "# the lowest values in the col..\n",
    "print(f'\\nPartioning array such that first three values of each column'+\n",
    "     f' are the lowest\\n values in that column:\\n{np.partition(two_d_array, 3, axis=0)}')"
   ]
  },
  {
   "cell_type": "markdown",
   "id": "caa36e3b",
   "metadata": {},
   "source": [
    "# Requirement 13:"
   ]
  },
  {
   "cell_type": "code",
   "execution_count": 11,
   "id": "c19cd05e",
   "metadata": {},
   "outputs": [
    {
     "data": {
      "image/png": "[encoded data removed]",
      "text/plain": [
       "<Figure size 432x288 with 1 Axes>"
      ]
     },
     "metadata": {},
     "output_type": "display_data"
    }
   ],
   "source": [
    "# create the 25x2 array\n",
    "X = rand.rand(25, 2)\n",
    "%matplotlib inline\n",
    "import matplotlib.pyplot as plt\n",
    "# set style and plot\n",
    "plt.style.use('dark_background')\n",
    "plt.title('k-nearest neighbor plot')\n",
    "plt.scatter(X[:, 0], X[:, 1], s=75)\n",
    "# compute the squared distances\n",
    "dist_sq = np.sum((X[:, np.newaxis, :] - X[np.newaxis, :, :]) ** 2, axis=-1)\n",
    "# k=3\n",
    "K = 3\n",
    "nearest_partition = np.argpartition(dist_sq, K + 1, axis=1)\n",
    "\n",
    "for i in range(X.shape[0]):\n",
    "    for j in nearest_partition[i, :K+1]:\n",
    "        # plot a line from X[i] to X[j]\n",
    "        # use some zip magic to make it happen:\n",
    "        plt.plot(*zip(X[j], X[i]), color='pink')"
   ]
  },
  {
   "cell_type": "markdown",
   "id": "cda09a56",
   "metadata": {},
   "source": [
    "# Requirement 14:"
   ]
  },
  {
   "cell_type": "code",
   "execution_count": 12,
   "id": "a093d120",
   "metadata": {},
   "outputs": [
    {
     "name": "stdout",
     "output_type": "stream",
     "text": [
      "Super hero array (dict method):\n",
      "[('Batman', 38, 'Gotham') ('Superman', 32, 'Krypton')\n",
      " ('Ant-Man', 27, 'Florida') ('Aquaman', 22, 'Maine')\n",
      " ('Avengers', 40, 'Scattered') ('Iron Man', 39, 'Long Island, NYC')\n",
      " ('Green Lantern', 17, 'Coast City') ('Spider-man', 16, 'Queens, NYC')]\n"
     ]
    }
   ],
   "source": [
    "# created a structured array named super_heroes using:\n",
    "# 1) dict method\n",
    "# 2) NumPy data types for the element names \n",
    "# -> with proper element names\n",
    "name = ['Batman', 'Superman', 'Ant-Man', 'Aquaman', 'Avengers', \n",
    "       'Iron Man', 'Green Lantern', 'Spider-man']\n",
    "age = [38, 32, 27, 22, 40, 39, 17, 16]\n",
    "birthplace = ['Gotham', 'Krypton', 'Florida', 'Maine', 'Scattered', \n",
    "             'Long Island, NYC', 'Coast City', 'Queens, NYC']\n",
    "\n",
    "super_heroes = np.zeros(len(name), dtype={'names': ('name', 'age', 'birthplace'),\n",
    "                                         'formats': ((np.str_, 20), np.int16, (np.str_, 20))})\n",
    "# fill array with lists of values\n",
    "super_heroes['name'] = name\n",
    "super_heroes['age'] = age\n",
    "super_heroes['birthplace'] = birthplace\n",
    "\n",
    "print(f'Super hero array (dict method):\\n{super_heroes}')\n",
    "\n"
   ]
  },
  {
   "cell_type": "markdown",
   "id": "a8a27c11",
   "metadata": {},
   "source": [
    "# Requirement 15:\n",
    "This has been the most challenging assignment for me. I have some experience working with NumPy but a lot of the concepts that we went over this section the author introduced chunks of code without much explanation. There wasn't a lot of good videos on YouTube on a couple topics so I am going to do some further research and see a tutor. I really want to better understand the k-nearest neighbor plot because it seemed like magic and I am still a bit lost. Besides that I definitely learned a lot and am looking forward to working with Pandas and learning more about that. I did some work in Pandas in one of my engineering courses at Texas A&M called ENG 216 where we had to analyze a lot of data and that was the class that really make me want to look into data science. Thank you!"
   ]
  }
 ],
 "metadata": {
  "kernelspec": {
   "display_name": "Python 3",
   "language": "python",
   "name": "python3"
  },
  "language_info": {
   "codemirror_mode": {
    "name": "ipython",
    "version": 3
   },
   "file_extension": ".py",
   "mimetype": "text/x-python",
   "name": "python",
   "nbconvert_exporter": "python",
   "pygments_lexer": "ipython3",
   "version": "3.8.10"
  }
 },
 "nbformat": 4,
 "nbformat_minor": 5
}
